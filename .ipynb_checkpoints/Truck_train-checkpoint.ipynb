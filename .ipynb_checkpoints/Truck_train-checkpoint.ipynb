{
 "cells": [
  {
   "cell_type": "code",
   "execution_count": null,
   "id": "4961d036-96ca-4d25-8cd2-8c9733965ca6",
   "metadata": {},
   "outputs": [],
   "source": [
    "from ultralytics import YOLO\n",
    "\n",
    "# 모델 선택 또는 초기화\n",
    "model = YOLO('yolov8n.pt')  # 또는 'yolov8s.pt', 'yolov8m.pt' 등\n",
    "\n",
    "# 모델 학습\n",
    "model.train(\n",
    "    data='dataset.yaml',\n",
    "    epochs=100,\n",
    "    imgsz=640,\n",
    "    batch=64,\n",
    "    name='custom_yolov8',\n",
    ")\n"
   ]
  }
 ],
 "metadata": {
  "kernelspec": {
   "display_name": "PyTorch",
   "language": "python",
   "name": "pytorch"
  },
  "language_info": {
   "codemirror_mode": {
    "name": "ipython",
    "version": 3
   },
   "file_extension": ".py",
   "mimetype": "text/x-python",
   "name": "python",
   "nbconvert_exporter": "python",
   "pygments_lexer": "ipython3",
   "version": "3.8.19"
  }
 },
 "nbformat": 4,
 "nbformat_minor": 5
}
